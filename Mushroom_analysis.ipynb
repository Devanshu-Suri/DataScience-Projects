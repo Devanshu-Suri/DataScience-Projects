{
 "cells": [
  {
   "cell_type": "code",
   "execution_count": 1,
   "metadata": {},
   "outputs": [],
   "source": [
    "# Regular EDA (exploratory data analysis) and plotting libraries\n",
    "import numpy as np\n",
    "import pandas as pd\n",
    "import matplotlib.pyplot as plt\n",
    "import seaborn as sns\n",
    "# Models from Scikit-Learn\n",
    "from sklearn.linear_model import LogisticRegression\n",
    "from sklearn.neighbors import KNeighborsClassifier\n",
    "from sklearn.ensemble import RandomForestClassifier\n",
    "from sklearn.naive_bayes import MultinomialNB\n",
    "from sklearn.svm import SVC\n",
    "from sklearn.tree import DecisionTreeClassifier\n",
    "# Model Evaluations\n",
    "from sklearn.model_selection import train_test_split, cross_val_score,cross_val_predict\n",
    "from sklearn.model_selection import RandomizedSearchCV, GridSearchCV\n",
    "from sklearn.metrics import confusion_matrix, classification_report,accuracy_score\n",
    "from sklearn.metrics import precision_score, recall_score, f1_score\n",
    "from sklearn.metrics import roc_curve,roc_auc_score\n",
    "from sklearn.decomposition import PCA\n",
    "import warnings\n",
    "warnings.filterwarnings('ignore')"
   ]
  },
  {
   "cell_type": "code",
   "execution_count": 2,
   "metadata": {},
   "outputs": [
    {
     "data": {
      "text/html": [
       "<div>\n",
       "<style scoped>\n",
       "    .dataframe tbody tr th:only-of-type {\n",
       "        vertical-align: middle;\n",
       "    }\n",
       "\n",
       "    .dataframe tbody tr th {\n",
       "        vertical-align: top;\n",
       "    }\n",
       "\n",
       "    .dataframe thead th {\n",
       "        text-align: right;\n",
       "    }\n",
       "</style>\n",
       "<table border=\"1\" class=\"dataframe\">\n",
       "  <thead>\n",
       "    <tr style=\"text-align: right;\">\n",
       "      <th></th>\n",
       "      <th>classes</th>\n",
       "      <th>cap-shape</th>\n",
       "      <th>cap-surface</th>\n",
       "      <th>cap-color</th>\n",
       "      <th>bruises?</th>\n",
       "      <th>odor</th>\n",
       "      <th>gill-attachment</th>\n",
       "      <th>gill-spacing</th>\n",
       "      <th>gill-size</th>\n",
       "      <th>gill-color</th>\n",
       "      <th>...</th>\n",
       "      <th>stalk-surface-below-ring</th>\n",
       "      <th>stalk-color-above-ring</th>\n",
       "      <th>stalk-color-below-ring</th>\n",
       "      <th>veil-type</th>\n",
       "      <th>veil-color</th>\n",
       "      <th>ring-number</th>\n",
       "      <th>ring-type</th>\n",
       "      <th>spore-print-color</th>\n",
       "      <th>population</th>\n",
       "      <th>habitat</th>\n",
       "    </tr>\n",
       "  </thead>\n",
       "  <tbody>\n",
       "    <tr>\n",
       "      <td>0</td>\n",
       "      <td>p</td>\n",
       "      <td>x</td>\n",
       "      <td>s</td>\n",
       "      <td>n</td>\n",
       "      <td>t</td>\n",
       "      <td>p</td>\n",
       "      <td>f</td>\n",
       "      <td>c</td>\n",
       "      <td>n</td>\n",
       "      <td>k</td>\n",
       "      <td>...</td>\n",
       "      <td>s</td>\n",
       "      <td>w</td>\n",
       "      <td>w</td>\n",
       "      <td>p</td>\n",
       "      <td>w</td>\n",
       "      <td>o</td>\n",
       "      <td>p</td>\n",
       "      <td>k</td>\n",
       "      <td>s</td>\n",
       "      <td>u</td>\n",
       "    </tr>\n",
       "    <tr>\n",
       "      <td>1</td>\n",
       "      <td>e</td>\n",
       "      <td>x</td>\n",
       "      <td>s</td>\n",
       "      <td>y</td>\n",
       "      <td>t</td>\n",
       "      <td>a</td>\n",
       "      <td>f</td>\n",
       "      <td>c</td>\n",
       "      <td>b</td>\n",
       "      <td>k</td>\n",
       "      <td>...</td>\n",
       "      <td>s</td>\n",
       "      <td>w</td>\n",
       "      <td>w</td>\n",
       "      <td>p</td>\n",
       "      <td>w</td>\n",
       "      <td>o</td>\n",
       "      <td>p</td>\n",
       "      <td>n</td>\n",
       "      <td>n</td>\n",
       "      <td>g</td>\n",
       "    </tr>\n",
       "    <tr>\n",
       "      <td>2</td>\n",
       "      <td>e</td>\n",
       "      <td>b</td>\n",
       "      <td>s</td>\n",
       "      <td>w</td>\n",
       "      <td>t</td>\n",
       "      <td>l</td>\n",
       "      <td>f</td>\n",
       "      <td>c</td>\n",
       "      <td>b</td>\n",
       "      <td>n</td>\n",
       "      <td>...</td>\n",
       "      <td>s</td>\n",
       "      <td>w</td>\n",
       "      <td>w</td>\n",
       "      <td>p</td>\n",
       "      <td>w</td>\n",
       "      <td>o</td>\n",
       "      <td>p</td>\n",
       "      <td>n</td>\n",
       "      <td>n</td>\n",
       "      <td>m</td>\n",
       "    </tr>\n",
       "    <tr>\n",
       "      <td>3</td>\n",
       "      <td>p</td>\n",
       "      <td>x</td>\n",
       "      <td>y</td>\n",
       "      <td>w</td>\n",
       "      <td>t</td>\n",
       "      <td>p</td>\n",
       "      <td>f</td>\n",
       "      <td>c</td>\n",
       "      <td>n</td>\n",
       "      <td>n</td>\n",
       "      <td>...</td>\n",
       "      <td>s</td>\n",
       "      <td>w</td>\n",
       "      <td>w</td>\n",
       "      <td>p</td>\n",
       "      <td>w</td>\n",
       "      <td>o</td>\n",
       "      <td>p</td>\n",
       "      <td>k</td>\n",
       "      <td>s</td>\n",
       "      <td>u</td>\n",
       "    </tr>\n",
       "    <tr>\n",
       "      <td>4</td>\n",
       "      <td>e</td>\n",
       "      <td>x</td>\n",
       "      <td>s</td>\n",
       "      <td>g</td>\n",
       "      <td>f</td>\n",
       "      <td>n</td>\n",
       "      <td>f</td>\n",
       "      <td>w</td>\n",
       "      <td>b</td>\n",
       "      <td>k</td>\n",
       "      <td>...</td>\n",
       "      <td>s</td>\n",
       "      <td>w</td>\n",
       "      <td>w</td>\n",
       "      <td>p</td>\n",
       "      <td>w</td>\n",
       "      <td>o</td>\n",
       "      <td>e</td>\n",
       "      <td>n</td>\n",
       "      <td>a</td>\n",
       "      <td>g</td>\n",
       "    </tr>\n",
       "    <tr>\n",
       "      <td>...</td>\n",
       "      <td>...</td>\n",
       "      <td>...</td>\n",
       "      <td>...</td>\n",
       "      <td>...</td>\n",
       "      <td>...</td>\n",
       "      <td>...</td>\n",
       "      <td>...</td>\n",
       "      <td>...</td>\n",
       "      <td>...</td>\n",
       "      <td>...</td>\n",
       "      <td>...</td>\n",
       "      <td>...</td>\n",
       "      <td>...</td>\n",
       "      <td>...</td>\n",
       "      <td>...</td>\n",
       "      <td>...</td>\n",
       "      <td>...</td>\n",
       "      <td>...</td>\n",
       "      <td>...</td>\n",
       "      <td>...</td>\n",
       "      <td>...</td>\n",
       "    </tr>\n",
       "    <tr>\n",
       "      <td>8119</td>\n",
       "      <td>e</td>\n",
       "      <td>k</td>\n",
       "      <td>s</td>\n",
       "      <td>n</td>\n",
       "      <td>f</td>\n",
       "      <td>n</td>\n",
       "      <td>a</td>\n",
       "      <td>c</td>\n",
       "      <td>b</td>\n",
       "      <td>y</td>\n",
       "      <td>...</td>\n",
       "      <td>s</td>\n",
       "      <td>o</td>\n",
       "      <td>o</td>\n",
       "      <td>p</td>\n",
       "      <td>o</td>\n",
       "      <td>o</td>\n",
       "      <td>p</td>\n",
       "      <td>b</td>\n",
       "      <td>c</td>\n",
       "      <td>l</td>\n",
       "    </tr>\n",
       "    <tr>\n",
       "      <td>8120</td>\n",
       "      <td>e</td>\n",
       "      <td>x</td>\n",
       "      <td>s</td>\n",
       "      <td>n</td>\n",
       "      <td>f</td>\n",
       "      <td>n</td>\n",
       "      <td>a</td>\n",
       "      <td>c</td>\n",
       "      <td>b</td>\n",
       "      <td>y</td>\n",
       "      <td>...</td>\n",
       "      <td>s</td>\n",
       "      <td>o</td>\n",
       "      <td>o</td>\n",
       "      <td>p</td>\n",
       "      <td>n</td>\n",
       "      <td>o</td>\n",
       "      <td>p</td>\n",
       "      <td>b</td>\n",
       "      <td>v</td>\n",
       "      <td>l</td>\n",
       "    </tr>\n",
       "    <tr>\n",
       "      <td>8121</td>\n",
       "      <td>e</td>\n",
       "      <td>f</td>\n",
       "      <td>s</td>\n",
       "      <td>n</td>\n",
       "      <td>f</td>\n",
       "      <td>n</td>\n",
       "      <td>a</td>\n",
       "      <td>c</td>\n",
       "      <td>b</td>\n",
       "      <td>n</td>\n",
       "      <td>...</td>\n",
       "      <td>s</td>\n",
       "      <td>o</td>\n",
       "      <td>o</td>\n",
       "      <td>p</td>\n",
       "      <td>o</td>\n",
       "      <td>o</td>\n",
       "      <td>p</td>\n",
       "      <td>b</td>\n",
       "      <td>c</td>\n",
       "      <td>l</td>\n",
       "    </tr>\n",
       "    <tr>\n",
       "      <td>8122</td>\n",
       "      <td>p</td>\n",
       "      <td>k</td>\n",
       "      <td>y</td>\n",
       "      <td>n</td>\n",
       "      <td>f</td>\n",
       "      <td>y</td>\n",
       "      <td>f</td>\n",
       "      <td>c</td>\n",
       "      <td>n</td>\n",
       "      <td>b</td>\n",
       "      <td>...</td>\n",
       "      <td>k</td>\n",
       "      <td>w</td>\n",
       "      <td>w</td>\n",
       "      <td>p</td>\n",
       "      <td>w</td>\n",
       "      <td>o</td>\n",
       "      <td>e</td>\n",
       "      <td>w</td>\n",
       "      <td>v</td>\n",
       "      <td>l</td>\n",
       "    </tr>\n",
       "    <tr>\n",
       "      <td>8123</td>\n",
       "      <td>e</td>\n",
       "      <td>x</td>\n",
       "      <td>s</td>\n",
       "      <td>n</td>\n",
       "      <td>f</td>\n",
       "      <td>n</td>\n",
       "      <td>a</td>\n",
       "      <td>c</td>\n",
       "      <td>b</td>\n",
       "      <td>y</td>\n",
       "      <td>...</td>\n",
       "      <td>s</td>\n",
       "      <td>o</td>\n",
       "      <td>o</td>\n",
       "      <td>p</td>\n",
       "      <td>o</td>\n",
       "      <td>o</td>\n",
       "      <td>p</td>\n",
       "      <td>o</td>\n",
       "      <td>c</td>\n",
       "      <td>l</td>\n",
       "    </tr>\n",
       "  </tbody>\n",
       "</table>\n",
       "<p>8124 rows × 23 columns</p>\n",
       "</div>"
      ],
      "text/plain": [
       "     classes cap-shape cap-surface cap-color bruises? odor gill-attachment  \\\n",
       "0          p         x           s         n        t    p               f   \n",
       "1          e         x           s         y        t    a               f   \n",
       "2          e         b           s         w        t    l               f   \n",
       "3          p         x           y         w        t    p               f   \n",
       "4          e         x           s         g        f    n               f   \n",
       "...      ...       ...         ...       ...      ...  ...             ...   \n",
       "8119       e         k           s         n        f    n               a   \n",
       "8120       e         x           s         n        f    n               a   \n",
       "8121       e         f           s         n        f    n               a   \n",
       "8122       p         k           y         n        f    y               f   \n",
       "8123       e         x           s         n        f    n               a   \n",
       "\n",
       "     gill-spacing gill-size gill-color  ... stalk-surface-below-ring  \\\n",
       "0               c         n          k  ...                        s   \n",
       "1               c         b          k  ...                        s   \n",
       "2               c         b          n  ...                        s   \n",
       "3               c         n          n  ...                        s   \n",
       "4               w         b          k  ...                        s   \n",
       "...           ...       ...        ...  ...                      ...   \n",
       "8119            c         b          y  ...                        s   \n",
       "8120            c         b          y  ...                        s   \n",
       "8121            c         b          n  ...                        s   \n",
       "8122            c         n          b  ...                        k   \n",
       "8123            c         b          y  ...                        s   \n",
       "\n",
       "     stalk-color-above-ring stalk-color-below-ring veil-type veil-color  \\\n",
       "0                         w                      w         p          w   \n",
       "1                         w                      w         p          w   \n",
       "2                         w                      w         p          w   \n",
       "3                         w                      w         p          w   \n",
       "4                         w                      w         p          w   \n",
       "...                     ...                    ...       ...        ...   \n",
       "8119                      o                      o         p          o   \n",
       "8120                      o                      o         p          n   \n",
       "8121                      o                      o         p          o   \n",
       "8122                      w                      w         p          w   \n",
       "8123                      o                      o         p          o   \n",
       "\n",
       "     ring-number ring-type spore-print-color population habitat  \n",
       "0              o         p                 k          s       u  \n",
       "1              o         p                 n          n       g  \n",
       "2              o         p                 n          n       m  \n",
       "3              o         p                 k          s       u  \n",
       "4              o         e                 n          a       g  \n",
       "...          ...       ...               ...        ...     ...  \n",
       "8119           o         p                 b          c       l  \n",
       "8120           o         p                 b          v       l  \n",
       "8121           o         p                 b          c       l  \n",
       "8122           o         e                 w          v       l  \n",
       "8123           o         p                 o          c       l  \n",
       "\n",
       "[8124 rows x 23 columns]"
      ]
     },
     "execution_count": 2,
     "metadata": {},
     "output_type": "execute_result"
    }
   ],
   "source": [
    "df=pd.read_csv('Mushroom.csv')\n",
    "df"
   ]
  },
  {
   "cell_type": "code",
   "execution_count": 3,
   "metadata": {},
   "outputs": [],
   "source": [
    "df=pd.DataFrame(data=df)"
   ]
  },
  {
   "cell_type": "code",
   "execution_count": 4,
   "metadata": {},
   "outputs": [],
   "source": [
    "from sklearn.preprocessing import LabelEncoder    \n",
    "le=LabelEncoder()\n",
    "list1=['classes','cap-shape','cap-surface','cap-color','bruises?','odor','gill-attachment','gill-spacing','gill-size','gill-color','stalk-shape','stalk-root','stalk-surface-above-ring','stalk-surface-below-ring','stalk-color-above-ring','stalk-color-below-ring','veil-type','veil-color','ring-number','ring-type','spore-print-color','population','habitat']\n",
    "for val in list1:\n",
    "    df[val]=le.fit_transform(df[val].astype(str))"
   ]
  },
  {
   "cell_type": "code",
   "execution_count": 5,
   "metadata": {},
   "outputs": [],
   "source": [
    "data=df.drop('classes',axis=1)"
   ]
  },
  {
   "cell_type": "code",
   "execution_count": 6,
   "metadata": {},
   "outputs": [
    {
     "data": {
      "text/plain": [
       "0       1\n",
       "1       0\n",
       "2       0\n",
       "3       1\n",
       "4       0\n",
       "       ..\n",
       "8119    0\n",
       "8120    0\n",
       "8121    0\n",
       "8122    1\n",
       "8123    0\n",
       "Name: classes, Length: 8124, dtype: int32"
      ]
     },
     "execution_count": 6,
     "metadata": {},
     "output_type": "execute_result"
    }
   ],
   "source": [
    "target=df['classes']\n",
    "target"
   ]
  },
  {
   "cell_type": "code",
   "execution_count": 7,
   "metadata": {},
   "outputs": [
    {
     "data": {
      "text/plain": [
       "array([[ 0.22820662, -0.34547209, -1.42442514, ...,  3.64358855,\n",
       "        -0.92581182,  0.36680766],\n",
       "       [-1.93656097,  4.79691211, -3.51166784, ..., -0.61776406,\n",
       "         0.23213088,  0.07507515],\n",
       "       [-1.65417317,  2.46436226, -3.88082715, ...,  0.66746969,\n",
       "        -0.18841658,  0.33120588],\n",
       "       ...,\n",
       "       [-1.86050705,  0.47024368,  1.19021189, ...,  1.09550111,\n",
       "        -0.23495457, -0.25898422],\n",
       "       [ 7.29306843, -1.25169255, -1.24197629, ...,  1.25810698,\n",
       "        -0.31653774, -0.58907278],\n",
       "       [-4.83553281, -3.58375805, -0.11250607, ..., -0.42149836,\n",
       "         0.42627554, -0.06795613]])"
      ]
     },
     "execution_count": 7,
     "metadata": {},
     "output_type": "execute_result"
    }
   ],
   "source": [
    "pca=PCA(n_components=10)\n",
    "data=pca.fit_transform(data)\n",
    "data"
   ]
  },
  {
   "cell_type": "code",
   "execution_count": 8,
   "metadata": {},
   "outputs": [],
   "source": [
    "data=pd.DataFrame(data=data)\n",
    "data[10]=target"
   ]
  },
  {
   "cell_type": "code",
   "execution_count": 9,
   "metadata": {},
   "outputs": [
    {
     "data": {
      "text/html": [
       "<div>\n",
       "<style scoped>\n",
       "    .dataframe tbody tr th:only-of-type {\n",
       "        vertical-align: middle;\n",
       "    }\n",
       "\n",
       "    .dataframe tbody tr th {\n",
       "        vertical-align: top;\n",
       "    }\n",
       "\n",
       "    .dataframe thead th {\n",
       "        text-align: right;\n",
       "    }\n",
       "</style>\n",
       "<table border=\"1\" class=\"dataframe\">\n",
       "  <thead>\n",
       "    <tr style=\"text-align: right;\">\n",
       "      <th></th>\n",
       "      <th>0</th>\n",
       "      <th>1</th>\n",
       "      <th>2</th>\n",
       "      <th>3</th>\n",
       "      <th>4</th>\n",
       "      <th>5</th>\n",
       "      <th>6</th>\n",
       "      <th>7</th>\n",
       "      <th>8</th>\n",
       "      <th>9</th>\n",
       "      <th>10</th>\n",
       "    </tr>\n",
       "  </thead>\n",
       "  <tbody>\n",
       "    <tr>\n",
       "      <td>0</td>\n",
       "      <td>0.228207</td>\n",
       "      <td>-0.345472</td>\n",
       "      <td>-1.424425</td>\n",
       "      <td>-1.246722</td>\n",
       "      <td>2.088737</td>\n",
       "      <td>2.645915</td>\n",
       "      <td>-1.032036</td>\n",
       "      <td>3.643589</td>\n",
       "      <td>-0.925812</td>\n",
       "      <td>0.366808</td>\n",
       "      <td>1</td>\n",
       "    </tr>\n",
       "    <tr>\n",
       "      <td>1</td>\n",
       "      <td>-1.936561</td>\n",
       "      <td>4.796912</td>\n",
       "      <td>-3.511668</td>\n",
       "      <td>-1.245720</td>\n",
       "      <td>0.551144</td>\n",
       "      <td>-0.283909</td>\n",
       "      <td>2.550317</td>\n",
       "      <td>-0.617764</td>\n",
       "      <td>0.232131</td>\n",
       "      <td>0.075075</td>\n",
       "      <td>0</td>\n",
       "    </tr>\n",
       "    <tr>\n",
       "      <td>2</td>\n",
       "      <td>-1.654173</td>\n",
       "      <td>2.464362</td>\n",
       "      <td>-3.880827</td>\n",
       "      <td>1.222505</td>\n",
       "      <td>1.043965</td>\n",
       "      <td>-2.052608</td>\n",
       "      <td>-2.190863</td>\n",
       "      <td>0.667470</td>\n",
       "      <td>-0.188417</td>\n",
       "      <td>0.331206</td>\n",
       "      <td>0</td>\n",
       "    </tr>\n",
       "    <tr>\n",
       "      <td>3</td>\n",
       "      <td>-1.252026</td>\n",
       "      <td>1.679664</td>\n",
       "      <td>-3.565488</td>\n",
       "      <td>0.586997</td>\n",
       "      <td>0.679516</td>\n",
       "      <td>2.792790</td>\n",
       "      <td>-0.396476</td>\n",
       "      <td>4.161473</td>\n",
       "      <td>-1.013877</td>\n",
       "      <td>-0.498926</td>\n",
       "      <td>1</td>\n",
       "    </tr>\n",
       "    <tr>\n",
       "      <td>4</td>\n",
       "      <td>1.581220</td>\n",
       "      <td>-1.002043</td>\n",
       "      <td>-1.255760</td>\n",
       "      <td>-1.970625</td>\n",
       "      <td>0.070293</td>\n",
       "      <td>3.301132</td>\n",
       "      <td>-1.258234</td>\n",
       "      <td>-2.004355</td>\n",
       "      <td>0.602214</td>\n",
       "      <td>-1.342796</td>\n",
       "      <td>0</td>\n",
       "    </tr>\n",
       "    <tr>\n",
       "      <td>...</td>\n",
       "      <td>...</td>\n",
       "      <td>...</td>\n",
       "      <td>...</td>\n",
       "      <td>...</td>\n",
       "      <td>...</td>\n",
       "      <td>...</td>\n",
       "      <td>...</td>\n",
       "      <td>...</td>\n",
       "      <td>...</td>\n",
       "      <td>...</td>\n",
       "      <td>...</td>\n",
       "    </tr>\n",
       "    <tr>\n",
       "      <td>8119</td>\n",
       "      <td>-6.469823</td>\n",
       "      <td>-2.308511</td>\n",
       "      <td>0.588111</td>\n",
       "      <td>1.118114</td>\n",
       "      <td>0.617045</td>\n",
       "      <td>1.426498</td>\n",
       "      <td>-1.800509</td>\n",
       "      <td>0.158004</td>\n",
       "      <td>0.106866</td>\n",
       "      <td>-0.649487</td>\n",
       "      <td>0</td>\n",
       "    </tr>\n",
       "    <tr>\n",
       "      <td>8120</td>\n",
       "      <td>-6.525909</td>\n",
       "      <td>-2.280695</td>\n",
       "      <td>1.431399</td>\n",
       "      <td>0.329901</td>\n",
       "      <td>0.274762</td>\n",
       "      <td>1.946724</td>\n",
       "      <td>0.208437</td>\n",
       "      <td>1.467637</td>\n",
       "      <td>-0.291823</td>\n",
       "      <td>-0.433137</td>\n",
       "      <td>0</td>\n",
       "    </tr>\n",
       "    <tr>\n",
       "      <td>8121</td>\n",
       "      <td>-1.860507</td>\n",
       "      <td>0.470244</td>\n",
       "      <td>1.190212</td>\n",
       "      <td>-0.306579</td>\n",
       "      <td>0.364383</td>\n",
       "      <td>0.053368</td>\n",
       "      <td>-2.843708</td>\n",
       "      <td>1.095501</td>\n",
       "      <td>-0.234955</td>\n",
       "      <td>-0.258984</td>\n",
       "      <td>0</td>\n",
       "    </tr>\n",
       "    <tr>\n",
       "      <td>8122</td>\n",
       "      <td>7.293068</td>\n",
       "      <td>-1.251693</td>\n",
       "      <td>-1.241976</td>\n",
       "      <td>0.781739</td>\n",
       "      <td>-1.592310</td>\n",
       "      <td>0.043870</td>\n",
       "      <td>-0.311706</td>\n",
       "      <td>1.258107</td>\n",
       "      <td>-0.316538</td>\n",
       "      <td>-0.589073</td>\n",
       "      <td>1</td>\n",
       "    </tr>\n",
       "    <tr>\n",
       "      <td>8123</td>\n",
       "      <td>-4.835533</td>\n",
       "      <td>-3.583758</td>\n",
       "      <td>-0.112506</td>\n",
       "      <td>2.517632</td>\n",
       "      <td>0.530664</td>\n",
       "      <td>1.923264</td>\n",
       "      <td>1.360926</td>\n",
       "      <td>-0.421498</td>\n",
       "      <td>0.426276</td>\n",
       "      <td>-0.067956</td>\n",
       "      <td>0</td>\n",
       "    </tr>\n",
       "  </tbody>\n",
       "</table>\n",
       "<p>8124 rows × 11 columns</p>\n",
       "</div>"
      ],
      "text/plain": [
       "            0         1         2         3         4         5         6   \\\n",
       "0     0.228207 -0.345472 -1.424425 -1.246722  2.088737  2.645915 -1.032036   \n",
       "1    -1.936561  4.796912 -3.511668 -1.245720  0.551144 -0.283909  2.550317   \n",
       "2    -1.654173  2.464362 -3.880827  1.222505  1.043965 -2.052608 -2.190863   \n",
       "3    -1.252026  1.679664 -3.565488  0.586997  0.679516  2.792790 -0.396476   \n",
       "4     1.581220 -1.002043 -1.255760 -1.970625  0.070293  3.301132 -1.258234   \n",
       "...        ...       ...       ...       ...       ...       ...       ...   \n",
       "8119 -6.469823 -2.308511  0.588111  1.118114  0.617045  1.426498 -1.800509   \n",
       "8120 -6.525909 -2.280695  1.431399  0.329901  0.274762  1.946724  0.208437   \n",
       "8121 -1.860507  0.470244  1.190212 -0.306579  0.364383  0.053368 -2.843708   \n",
       "8122  7.293068 -1.251693 -1.241976  0.781739 -1.592310  0.043870 -0.311706   \n",
       "8123 -4.835533 -3.583758 -0.112506  2.517632  0.530664  1.923264  1.360926   \n",
       "\n",
       "            7         8         9   10  \n",
       "0     3.643589 -0.925812  0.366808   1  \n",
       "1    -0.617764  0.232131  0.075075   0  \n",
       "2     0.667470 -0.188417  0.331206   0  \n",
       "3     4.161473 -1.013877 -0.498926   1  \n",
       "4    -2.004355  0.602214 -1.342796   0  \n",
       "...        ...       ...       ...  ..  \n",
       "8119  0.158004  0.106866 -0.649487   0  \n",
       "8120  1.467637 -0.291823 -0.433137   0  \n",
       "8121  1.095501 -0.234955 -0.258984   0  \n",
       "8122  1.258107 -0.316538 -0.589073   1  \n",
       "8123 -0.421498  0.426276 -0.067956   0  \n",
       "\n",
       "[8124 rows x 11 columns]"
      ]
     },
     "execution_count": 9,
     "metadata": {},
     "output_type": "execute_result"
    }
   ],
   "source": [
    "data"
   ]
  },
  {
   "cell_type": "code",
   "execution_count": 10,
   "metadata": {},
   "outputs": [
    {
     "name": "stdout",
     "output_type": "stream",
     "text": [
      "<class 'pandas.core.frame.DataFrame'>\n",
      "RangeIndex: 8124 entries, 0 to 8123\n",
      "Data columns (total 11 columns):\n",
      "0     8124 non-null float64\n",
      "1     8124 non-null float64\n",
      "2     8124 non-null float64\n",
      "3     8124 non-null float64\n",
      "4     8124 non-null float64\n",
      "5     8124 non-null float64\n",
      "6     8124 non-null float64\n",
      "7     8124 non-null float64\n",
      "8     8124 non-null float64\n",
      "9     8124 non-null float64\n",
      "10    8124 non-null int32\n",
      "dtypes: float64(10), int32(1)\n",
      "memory usage: 666.5 KB\n"
     ]
    }
   ],
   "source": [
    "data.info()"
   ]
  },
  {
   "cell_type": "code",
   "execution_count": 11,
   "metadata": {},
   "outputs": [
    {
     "data": {
      "text/plain": [
       "0     0\n",
       "1     0\n",
       "2     0\n",
       "3     0\n",
       "4     0\n",
       "5     0\n",
       "6     0\n",
       "7     0\n",
       "8     0\n",
       "9     0\n",
       "10    0\n",
       "dtype: int64"
      ]
     },
     "execution_count": 11,
     "metadata": {},
     "output_type": "execute_result"
    }
   ],
   "source": [
    "data.isnull().sum()"
   ]
  },
  {
   "cell_type": "code",
   "execution_count": 12,
   "metadata": {},
   "outputs": [
    {
     "data": {
      "text/html": [
       "<div>\n",
       "<style scoped>\n",
       "    .dataframe tbody tr th:only-of-type {\n",
       "        vertical-align: middle;\n",
       "    }\n",
       "\n",
       "    .dataframe tbody tr th {\n",
       "        vertical-align: top;\n",
       "    }\n",
       "\n",
       "    .dataframe thead th {\n",
       "        text-align: right;\n",
       "    }\n",
       "</style>\n",
       "<table border=\"1\" class=\"dataframe\">\n",
       "  <thead>\n",
       "    <tr style=\"text-align: right;\">\n",
       "      <th></th>\n",
       "      <th>0</th>\n",
       "      <th>1</th>\n",
       "      <th>2</th>\n",
       "      <th>3</th>\n",
       "      <th>4</th>\n",
       "      <th>5</th>\n",
       "      <th>6</th>\n",
       "      <th>7</th>\n",
       "      <th>8</th>\n",
       "      <th>9</th>\n",
       "      <th>10</th>\n",
       "    </tr>\n",
       "  </thead>\n",
       "  <tbody>\n",
       "    <tr>\n",
       "      <td>count</td>\n",
       "      <td>8.124000e+03</td>\n",
       "      <td>8.124000e+03</td>\n",
       "      <td>8.124000e+03</td>\n",
       "      <td>8.124000e+03</td>\n",
       "      <td>8.124000e+03</td>\n",
       "      <td>8.124000e+03</td>\n",
       "      <td>8.124000e+03</td>\n",
       "      <td>8.124000e+03</td>\n",
       "      <td>8.124000e+03</td>\n",
       "      <td>8.124000e+03</td>\n",
       "      <td>8124.000000</td>\n",
       "    </tr>\n",
       "    <tr>\n",
       "      <td>mean</td>\n",
       "      <td>1.714587e-15</td>\n",
       "      <td>-1.168440e-15</td>\n",
       "      <td>2.561873e-16</td>\n",
       "      <td>2.016550e-15</td>\n",
       "      <td>6.899536e-16</td>\n",
       "      <td>2.895545e-16</td>\n",
       "      <td>7.210163e-16</td>\n",
       "      <td>-1.819623e-17</td>\n",
       "      <td>5.265155e-16</td>\n",
       "      <td>-4.543933e-19</td>\n",
       "      <td>0.482029</td>\n",
       "    </tr>\n",
       "    <tr>\n",
       "      <td>std</td>\n",
       "      <td>4.157262e+00</td>\n",
       "      <td>2.913540e+00</td>\n",
       "      <td>2.507936e+00</td>\n",
       "      <td>1.865351e+00</td>\n",
       "      <td>1.727795e+00</td>\n",
       "      <td>1.614662e+00</td>\n",
       "      <td>1.546364e+00</td>\n",
       "      <td>1.414538e+00</td>\n",
       "      <td>1.353403e+00</td>\n",
       "      <td>1.151859e+00</td>\n",
       "      <td>0.499708</td>\n",
       "    </tr>\n",
       "    <tr>\n",
       "      <td>min</td>\n",
       "      <td>-7.186581e+00</td>\n",
       "      <td>-6.733563e+00</td>\n",
       "      <td>-7.322374e+00</td>\n",
       "      <td>-5.549168e+00</td>\n",
       "      <td>-3.563351e+00</td>\n",
       "      <td>-4.305893e+00</td>\n",
       "      <td>-4.433678e+00</td>\n",
       "      <td>-4.034428e+00</td>\n",
       "      <td>-4.612439e+00</td>\n",
       "      <td>-2.134282e+00</td>\n",
       "      <td>0.000000</td>\n",
       "    </tr>\n",
       "    <tr>\n",
       "      <td>25%</td>\n",
       "      <td>-3.121464e+00</td>\n",
       "      <td>-2.126469e+00</td>\n",
       "      <td>-1.442189e+00</td>\n",
       "      <td>-1.221971e+00</td>\n",
       "      <td>-1.163555e+00</td>\n",
       "      <td>-1.216192e+00</td>\n",
       "      <td>-1.088275e+00</td>\n",
       "      <td>-9.826112e-01</td>\n",
       "      <td>-4.239836e-01</td>\n",
       "      <td>-1.038800e+00</td>\n",
       "      <td>0.000000</td>\n",
       "    </tr>\n",
       "    <tr>\n",
       "      <td>50%</td>\n",
       "      <td>-9.707330e-01</td>\n",
       "      <td>-6.256058e-01</td>\n",
       "      <td>-1.299987e-01</td>\n",
       "      <td>-1.626013e-01</td>\n",
       "      <td>-2.876669e-01</td>\n",
       "      <td>4.453744e-02</td>\n",
       "      <td>-1.220978e-01</td>\n",
       "      <td>1.293425e-01</td>\n",
       "      <td>1.191560e-02</td>\n",
       "      <td>-6.774831e-02</td>\n",
       "      <td>0.000000</td>\n",
       "    </tr>\n",
       "    <tr>\n",
       "      <td>75%</td>\n",
       "      <td>1.889445e+00</td>\n",
       "      <td>1.808065e+00</td>\n",
       "      <td>1.384977e+00</td>\n",
       "      <td>9.546671e-01</td>\n",
       "      <td>8.490598e-01</td>\n",
       "      <td>9.992095e-01</td>\n",
       "      <td>1.162319e+00</td>\n",
       "      <td>9.841373e-01</td>\n",
       "      <td>4.748488e-01</td>\n",
       "      <td>8.647300e-01</td>\n",
       "      <td>1.000000</td>\n",
       "    </tr>\n",
       "    <tr>\n",
       "      <td>max</td>\n",
       "      <td>7.917838e+00</td>\n",
       "      <td>8.152221e+00</td>\n",
       "      <td>8.837761e+00</td>\n",
       "      <td>9.092527e+00</td>\n",
       "      <td>6.138878e+00</td>\n",
       "      <td>4.724657e+00</td>\n",
       "      <td>5.128358e+00</td>\n",
       "      <td>4.693669e+00</td>\n",
       "      <td>4.656484e+00</td>\n",
       "      <td>3.037611e+00</td>\n",
       "      <td>1.000000</td>\n",
       "    </tr>\n",
       "  </tbody>\n",
       "</table>\n",
       "</div>"
      ],
      "text/plain": [
       "                 0             1             2             3             4   \\\n",
       "count  8.124000e+03  8.124000e+03  8.124000e+03  8.124000e+03  8.124000e+03   \n",
       "mean   1.714587e-15 -1.168440e-15  2.561873e-16  2.016550e-15  6.899536e-16   \n",
       "std    4.157262e+00  2.913540e+00  2.507936e+00  1.865351e+00  1.727795e+00   \n",
       "min   -7.186581e+00 -6.733563e+00 -7.322374e+00 -5.549168e+00 -3.563351e+00   \n",
       "25%   -3.121464e+00 -2.126469e+00 -1.442189e+00 -1.221971e+00 -1.163555e+00   \n",
       "50%   -9.707330e-01 -6.256058e-01 -1.299987e-01 -1.626013e-01 -2.876669e-01   \n",
       "75%    1.889445e+00  1.808065e+00  1.384977e+00  9.546671e-01  8.490598e-01   \n",
       "max    7.917838e+00  8.152221e+00  8.837761e+00  9.092527e+00  6.138878e+00   \n",
       "\n",
       "                 5             6             7             8             9   \\\n",
       "count  8.124000e+03  8.124000e+03  8.124000e+03  8.124000e+03  8.124000e+03   \n",
       "mean   2.895545e-16  7.210163e-16 -1.819623e-17  5.265155e-16 -4.543933e-19   \n",
       "std    1.614662e+00  1.546364e+00  1.414538e+00  1.353403e+00  1.151859e+00   \n",
       "min   -4.305893e+00 -4.433678e+00 -4.034428e+00 -4.612439e+00 -2.134282e+00   \n",
       "25%   -1.216192e+00 -1.088275e+00 -9.826112e-01 -4.239836e-01 -1.038800e+00   \n",
       "50%    4.453744e-02 -1.220978e-01  1.293425e-01  1.191560e-02 -6.774831e-02   \n",
       "75%    9.992095e-01  1.162319e+00  9.841373e-01  4.748488e-01  8.647300e-01   \n",
       "max    4.724657e+00  5.128358e+00  4.693669e+00  4.656484e+00  3.037611e+00   \n",
       "\n",
       "                10  \n",
       "count  8124.000000  \n",
       "mean      0.482029  \n",
       "std       0.499708  \n",
       "min       0.000000  \n",
       "25%       0.000000  \n",
       "50%       0.000000  \n",
       "75%       1.000000  \n",
       "max       1.000000  "
      ]
     },
     "execution_count": 12,
     "metadata": {},
     "output_type": "execute_result"
    }
   ],
   "source": [
    "data.describe()"
   ]
  },
  {
   "cell_type": "code",
   "execution_count": 13,
   "metadata": {},
   "outputs": [
    {
     "name": "stdout",
     "output_type": "stream",
     "text": [
      "Number of unique values of0 :8124 \n",
      "Number of unique values of1 :8124 \n",
      "Number of unique values of2 :8124 \n",
      "Number of unique values of3 :8124 \n",
      "Number of unique values of4 :8124 \n",
      "Number of unique values of5 :8124 \n",
      "Number of unique values of6 :8124 \n",
      "Number of unique values of7 :8124 \n",
      "Number of unique values of8 :8124 \n",
      "Number of unique values of9 :8124 \n",
      "Number of unique values of10 :2 \n"
     ]
    }
   ],
   "source": [
    "for col in data.columns.values:\n",
    "    print(\"Number of unique values of{} :{} \".format(col,data[col].nunique()))"
   ]
  },
  {
   "cell_type": "code",
   "execution_count": 14,
   "metadata": {},
   "outputs": [
    {
     "data": {
      "text/plain": [
       "0     0.635138\n",
       "1     0.574512\n",
       "2     0.444208\n",
       "3     0.793095\n",
       "4     0.741290\n",
       "5     0.189428\n",
       "6    -0.053544\n",
       "7    -0.097630\n",
       "8     0.022523\n",
       "9     0.311111\n",
       "10    0.071946\n",
       "dtype: float64"
      ]
     },
     "execution_count": 14,
     "metadata": {},
     "output_type": "execute_result"
    }
   ],
   "source": [
    "data.skew()"
   ]
  },
  {
   "cell_type": "code",
   "execution_count": 15,
   "metadata": {},
   "outputs": [],
   "source": [
    "for i in data.columns:\n",
    "    if data.skew().loc[i]>0.55:\n",
    "        data[i]=np.log1p(data[i])"
   ]
  },
  {
   "cell_type": "code",
   "execution_count": 16,
   "metadata": {},
   "outputs": [
    {
     "data": {
      "text/plain": [
       "0    -1.093706\n",
       "1    -1.394667\n",
       "2     0.444208\n",
       "3    -1.323269\n",
       "4    -1.457443\n",
       "5     0.189428\n",
       "6    -0.053544\n",
       "7    -0.097630\n",
       "8     0.022523\n",
       "9     0.311111\n",
       "10    0.071946\n",
       "dtype: float64"
      ]
     },
     "execution_count": 16,
     "metadata": {},
     "output_type": "execute_result"
    }
   ],
   "source": [
    "data.skew()"
   ]
  },
  {
   "cell_type": "code",
   "execution_count": 17,
   "metadata": {},
   "outputs": [
    {
     "data": {
      "text/plain": [
       "<seaborn.axisgrid.FacetGrid at 0x15cba8ec088>"
      ]
     },
     "execution_count": 17,
     "metadata": {},
     "output_type": "execute_result"
    },
    {
     "data": {
      "image/png": "[encoded data removed]",
      "text/plain": [
       "<Figure size 360x360 with 1 Axes>"
      ]
     },
     "metadata": {
      "needs_background": "light"
     },
     "output_type": "display_data"
    }
   ],
   "source": [
    "sns.catplot(x=10,data=data,kind='count')"
   ]
  },
  {
   "cell_type": "code",
   "execution_count": 18,
   "metadata": {},
   "outputs": [
    {
     "data": {
      "text/plain": [
       "0     4025\n",
       "1     3438\n",
       "2        0\n",
       "3     2428\n",
       "4     2350\n",
       "5        0\n",
       "6        0\n",
       "7        0\n",
       "8        0\n",
       "9        0\n",
       "10       0\n",
       "dtype: int64"
      ]
     },
     "execution_count": 18,
     "metadata": {},
     "output_type": "execute_result"
    }
   ],
   "source": [
    "data.isnull().sum()"
   ]
  },
  {
   "cell_type": "code",
   "execution_count": 19,
   "metadata": {},
   "outputs": [
    {
     "name": "stdout",
     "output_type": "stream",
     "text": [
      "[[ 0.20555508 -0.42384105 -1.42442514 ... -0.92581182  0.36680766\n",
      "   1.        ]\n",
      " [ 0.80518601  1.75732538 -3.51166784 ...  0.23213088  0.07507515\n",
      "   0.        ]\n",
      " [ 0.80518601  1.24252856 -3.88082715 ... -0.18841658  0.33120588\n",
      "   0.        ]\n",
      " ...\n",
      " [ 0.80518601  0.38542815  1.19021189 ... -0.23495457 -0.25898422\n",
      "   0.        ]\n",
      " [ 2.11542004  0.54171536 -1.24197629 ... -0.31653774 -0.58907278\n",
      "   1.        ]\n",
      " [ 0.80518601  0.54171536 -0.11250607 ...  0.42627554 -0.06795613\n",
      "   0.        ]]\n"
     ]
    },
    {
     "data": {
      "text/html": [
       "<div>\n",
       "<style scoped>\n",
       "    .dataframe tbody tr th:only-of-type {\n",
       "        vertical-align: middle;\n",
       "    }\n",
       "\n",
       "    .dataframe tbody tr th {\n",
       "        vertical-align: top;\n",
       "    }\n",
       "\n",
       "    .dataframe thead th {\n",
       "        text-align: right;\n",
       "    }\n",
       "</style>\n",
       "<table border=\"1\" class=\"dataframe\">\n",
       "  <thead>\n",
       "    <tr style=\"text-align: right;\">\n",
       "      <th></th>\n",
       "      <th>0</th>\n",
       "      <th>1</th>\n",
       "      <th>2</th>\n",
       "      <th>3</th>\n",
       "      <th>4</th>\n",
       "      <th>5</th>\n",
       "      <th>6</th>\n",
       "      <th>7</th>\n",
       "      <th>8</th>\n",
       "      <th>9</th>\n",
       "      <th>10</th>\n",
       "    </tr>\n",
       "  </thead>\n",
       "  <tbody>\n",
       "    <tr>\n",
       "      <td>0</td>\n",
       "      <td>0.205555</td>\n",
       "      <td>-0.423841</td>\n",
       "      <td>-1.424425</td>\n",
       "      <td>0.189033</td>\n",
       "      <td>1.127762</td>\n",
       "      <td>2.645915</td>\n",
       "      <td>-1.032036</td>\n",
       "      <td>3.643589</td>\n",
       "      <td>-0.925812</td>\n",
       "      <td>0.366808</td>\n",
       "      <td>1.0</td>\n",
       "    </tr>\n",
       "    <tr>\n",
       "      <td>1</td>\n",
       "      <td>0.805186</td>\n",
       "      <td>1.757325</td>\n",
       "      <td>-3.511668</td>\n",
       "      <td>0.189033</td>\n",
       "      <td>0.438993</td>\n",
       "      <td>-0.283909</td>\n",
       "      <td>2.550317</td>\n",
       "      <td>-0.617764</td>\n",
       "      <td>0.232131</td>\n",
       "      <td>0.075075</td>\n",
       "      <td>0.0</td>\n",
       "    </tr>\n",
       "    <tr>\n",
       "      <td>2</td>\n",
       "      <td>0.805186</td>\n",
       "      <td>1.242529</td>\n",
       "      <td>-3.880827</td>\n",
       "      <td>0.798635</td>\n",
       "      <td>0.714892</td>\n",
       "      <td>-2.052608</td>\n",
       "      <td>-2.190863</td>\n",
       "      <td>0.667470</td>\n",
       "      <td>-0.188417</td>\n",
       "      <td>0.331206</td>\n",
       "      <td>0.0</td>\n",
       "    </tr>\n",
       "    <tr>\n",
       "      <td>3</td>\n",
       "      <td>0.805186</td>\n",
       "      <td>0.985691</td>\n",
       "      <td>-3.565488</td>\n",
       "      <td>0.461844</td>\n",
       "      <td>0.518506</td>\n",
       "      <td>2.792790</td>\n",
       "      <td>-0.396476</td>\n",
       "      <td>4.161473</td>\n",
       "      <td>-1.013877</td>\n",
       "      <td>-0.498926</td>\n",
       "      <td>1.0</td>\n",
       "    </tr>\n",
       "    <tr>\n",
       "      <td>4</td>\n",
       "      <td>0.948262</td>\n",
       "      <td>0.541715</td>\n",
       "      <td>-1.255760</td>\n",
       "      <td>0.189033</td>\n",
       "      <td>0.067932</td>\n",
       "      <td>3.301132</td>\n",
       "      <td>-1.258234</td>\n",
       "      <td>-2.004355</td>\n",
       "      <td>0.602214</td>\n",
       "      <td>-1.342796</td>\n",
       "      <td>0.0</td>\n",
       "    </tr>\n",
       "    <tr>\n",
       "      <td>...</td>\n",
       "      <td>...</td>\n",
       "      <td>...</td>\n",
       "      <td>...</td>\n",
       "      <td>...</td>\n",
       "      <td>...</td>\n",
       "      <td>...</td>\n",
       "      <td>...</td>\n",
       "      <td>...</td>\n",
       "      <td>...</td>\n",
       "      <td>...</td>\n",
       "      <td>...</td>\n",
       "    </tr>\n",
       "    <tr>\n",
       "      <td>8119</td>\n",
       "      <td>0.805186</td>\n",
       "      <td>0.541715</td>\n",
       "      <td>0.588111</td>\n",
       "      <td>0.750526</td>\n",
       "      <td>0.480600</td>\n",
       "      <td>1.426498</td>\n",
       "      <td>-1.800509</td>\n",
       "      <td>0.158004</td>\n",
       "      <td>0.106866</td>\n",
       "      <td>-0.649487</td>\n",
       "      <td>0.0</td>\n",
       "    </tr>\n",
       "    <tr>\n",
       "      <td>8120</td>\n",
       "      <td>0.805186</td>\n",
       "      <td>0.541715</td>\n",
       "      <td>1.431399</td>\n",
       "      <td>0.285104</td>\n",
       "      <td>0.242760</td>\n",
       "      <td>1.946724</td>\n",
       "      <td>0.208437</td>\n",
       "      <td>1.467637</td>\n",
       "      <td>-0.291823</td>\n",
       "      <td>-0.433137</td>\n",
       "      <td>0.0</td>\n",
       "    </tr>\n",
       "    <tr>\n",
       "      <td>8121</td>\n",
       "      <td>0.805186</td>\n",
       "      <td>0.385428</td>\n",
       "      <td>1.190212</td>\n",
       "      <td>-0.366118</td>\n",
       "      <td>0.310703</td>\n",
       "      <td>0.053368</td>\n",
       "      <td>-2.843708</td>\n",
       "      <td>1.095501</td>\n",
       "      <td>-0.234955</td>\n",
       "      <td>-0.258984</td>\n",
       "      <td>0.0</td>\n",
       "    </tr>\n",
       "    <tr>\n",
       "      <td>8122</td>\n",
       "      <td>2.115420</td>\n",
       "      <td>0.541715</td>\n",
       "      <td>-1.241976</td>\n",
       "      <td>0.577590</td>\n",
       "      <td>0.095623</td>\n",
       "      <td>0.043870</td>\n",
       "      <td>-0.311706</td>\n",
       "      <td>1.258107</td>\n",
       "      <td>-0.316538</td>\n",
       "      <td>-0.589073</td>\n",
       "      <td>1.0</td>\n",
       "    </tr>\n",
       "    <tr>\n",
       "      <td>8123</td>\n",
       "      <td>0.805186</td>\n",
       "      <td>0.541715</td>\n",
       "      <td>-0.112506</td>\n",
       "      <td>1.257788</td>\n",
       "      <td>0.425702</td>\n",
       "      <td>1.923264</td>\n",
       "      <td>1.360926</td>\n",
       "      <td>-0.421498</td>\n",
       "      <td>0.426276</td>\n",
       "      <td>-0.067956</td>\n",
       "      <td>0.0</td>\n",
       "    </tr>\n",
       "  </tbody>\n",
       "</table>\n",
       "<p>8124 rows × 11 columns</p>\n",
       "</div>"
      ],
      "text/plain": [
       "             0         1         2         3         4         5         6  \\\n",
       "0     0.205555 -0.423841 -1.424425  0.189033  1.127762  2.645915 -1.032036   \n",
       "1     0.805186  1.757325 -3.511668  0.189033  0.438993 -0.283909  2.550317   \n",
       "2     0.805186  1.242529 -3.880827  0.798635  0.714892 -2.052608 -2.190863   \n",
       "3     0.805186  0.985691 -3.565488  0.461844  0.518506  2.792790 -0.396476   \n",
       "4     0.948262  0.541715 -1.255760  0.189033  0.067932  3.301132 -1.258234   \n",
       "...        ...       ...       ...       ...       ...       ...       ...   \n",
       "8119  0.805186  0.541715  0.588111  0.750526  0.480600  1.426498 -1.800509   \n",
       "8120  0.805186  0.541715  1.431399  0.285104  0.242760  1.946724  0.208437   \n",
       "8121  0.805186  0.385428  1.190212 -0.366118  0.310703  0.053368 -2.843708   \n",
       "8122  2.115420  0.541715 -1.241976  0.577590  0.095623  0.043870 -0.311706   \n",
       "8123  0.805186  0.541715 -0.112506  1.257788  0.425702  1.923264  1.360926   \n",
       "\n",
       "             7         8         9   10  \n",
       "0     3.643589 -0.925812  0.366808  1.0  \n",
       "1    -0.617764  0.232131  0.075075  0.0  \n",
       "2     0.667470 -0.188417  0.331206  0.0  \n",
       "3     4.161473 -1.013877 -0.498926  1.0  \n",
       "4    -2.004355  0.602214 -1.342796  0.0  \n",
       "...        ...       ...       ...  ...  \n",
       "8119  0.158004  0.106866 -0.649487  0.0  \n",
       "8120  1.467637 -0.291823 -0.433137  0.0  \n",
       "8121  1.095501 -0.234955 -0.258984  0.0  \n",
       "8122  1.258107 -0.316538 -0.589073  1.0  \n",
       "8123 -0.421498  0.426276 -0.067956  0.0  \n",
       "\n",
       "[8124 rows x 11 columns]"
      ]
     },
     "execution_count": 19,
     "metadata": {},
     "output_type": "execute_result"
    }
   ],
   "source": [
    "from sklearn.preprocessing import Imputer\n",
    "imputer=Imputer(missing_values='NaN',strategy='mean',axis=0)\n",
    "imp=imputer.fit(data)\n",
    "df_titanic=imp.fit_transform(data.values)\n",
    "print(df_titanic)\n",
    "df_new=pd.DataFrame(data=df_titanic)\n",
    "df_new"
   ]
  },
  {
   "cell_type": "code",
   "execution_count": 20,
   "metadata": {},
   "outputs": [
    {
     "data": {
      "text/plain": [
       "0     0\n",
       "1     0\n",
       "2     0\n",
       "3     0\n",
       "4     0\n",
       "5     0\n",
       "6     0\n",
       "7     0\n",
       "8     0\n",
       "9     0\n",
       "10    0\n",
       "dtype: int64"
      ]
     },
     "execution_count": 20,
     "metadata": {},
     "output_type": "execute_result"
    }
   ],
   "source": [
    "df_new.isnull().sum()"
   ]
  },
  {
   "cell_type": "code",
   "execution_count": 21,
   "metadata": {},
   "outputs": [
    {
     "data": {
      "text/plain": [
       "(11.0, 0.0)"
      ]
     },
     "execution_count": 21,
     "metadata": {},
     "output_type": "execute_result"
    },
    {
     "data": {
      "image/png": "[encoded data removed]",
      "text/plain": [
       "<Figure size 1080x720 with 2 Axes>"
      ]
     },
     "metadata": {
      "needs_background": "light"
     },
     "output_type": "display_data"
    }
   ],
   "source": [
    "corr_matrix = df_new.corr()\n",
    "fig, ax = plt.subplots(figsize=(15, 10))\n",
    "ax = sns.heatmap(corr_matrix,\n",
    "                 annot=True,\n",
    "                 linewidths=0.5,\n",
    "                 fmt=\".2f\",\n",
    "                 cmap=\"YlGnBu\");\n",
    "bottom, top = ax.get_ylim()\n",
    "ax.set_ylim(bottom + 0.5, top - 0.5)"
   ]
  },
  {
   "cell_type": "code",
   "execution_count": 22,
   "metadata": {},
   "outputs": [
    {
     "data": {
      "text/plain": [
       "(8124, 11)"
      ]
     },
     "execution_count": 22,
     "metadata": {},
     "output_type": "execute_result"
    }
   ],
   "source": [
    "df_new.shape"
   ]
  },
  {
   "cell_type": "code",
   "execution_count": 23,
   "metadata": {},
   "outputs": [
    {
     "data": {
      "text/plain": [
       "0    -1.539458\n",
       "1    -1.836097\n",
       "2     0.444208\n",
       "3    -1.580207\n",
       "4    -1.728643\n",
       "5     0.189428\n",
       "6    -0.053544\n",
       "7    -0.097630\n",
       "8     0.022523\n",
       "9     0.311111\n",
       "10    0.071946\n",
       "dtype: float64"
      ]
     },
     "execution_count": 23,
     "metadata": {},
     "output_type": "execute_result"
    }
   ],
   "source": [
    "df_new.skew()"
   ]
  },
  {
   "cell_type": "code",
   "execution_count": 24,
   "metadata": {},
   "outputs": [
    {
     "name": "stdout",
     "output_type": "stream",
     "text": [
      "(8124, 11)\n",
      "(7311, 11)\n"
     ]
    }
   ],
   "source": [
    "from scipy.stats import zscore\n",
    "z=np.abs(zscore(df_new))\n",
    "print(df_new.shape)\n",
    "df_mushroom=df_new.loc[(z<3).all(axis=1)]\n",
    "print(df_mushroom.shape)"
   ]
  },
  {
   "cell_type": "code",
   "execution_count": 25,
   "metadata": {},
   "outputs": [
    {
     "data": {
      "text/html": [
       "<div>\n",
       "<style scoped>\n",
       "    .dataframe tbody tr th:only-of-type {\n",
       "        vertical-align: middle;\n",
       "    }\n",
       "\n",
       "    .dataframe tbody tr th {\n",
       "        vertical-align: top;\n",
       "    }\n",
       "\n",
       "    .dataframe thead th {\n",
       "        text-align: right;\n",
       "    }\n",
       "</style>\n",
       "<table border=\"1\" class=\"dataframe\">\n",
       "  <thead>\n",
       "    <tr style=\"text-align: right;\">\n",
       "      <th></th>\n",
       "      <th>0</th>\n",
       "      <th>1</th>\n",
       "      <th>2</th>\n",
       "      <th>3</th>\n",
       "      <th>4</th>\n",
       "      <th>5</th>\n",
       "      <th>6</th>\n",
       "      <th>7</th>\n",
       "      <th>8</th>\n",
       "      <th>9</th>\n",
       "    </tr>\n",
       "  </thead>\n",
       "  <tbody>\n",
       "    <tr>\n",
       "      <td>0</td>\n",
       "      <td>0.205555</td>\n",
       "      <td>-0.423841</td>\n",
       "      <td>-1.424425</td>\n",
       "      <td>0.189033</td>\n",
       "      <td>1.127762</td>\n",
       "      <td>2.645915</td>\n",
       "      <td>-1.032036</td>\n",
       "      <td>3.643589</td>\n",
       "      <td>-0.925812</td>\n",
       "      <td>0.366808</td>\n",
       "    </tr>\n",
       "    <tr>\n",
       "      <td>1</td>\n",
       "      <td>0.805186</td>\n",
       "      <td>1.757325</td>\n",
       "      <td>-3.511668</td>\n",
       "      <td>0.189033</td>\n",
       "      <td>0.438993</td>\n",
       "      <td>-0.283909</td>\n",
       "      <td>2.550317</td>\n",
       "      <td>-0.617764</td>\n",
       "      <td>0.232131</td>\n",
       "      <td>0.075075</td>\n",
       "    </tr>\n",
       "    <tr>\n",
       "      <td>2</td>\n",
       "      <td>0.805186</td>\n",
       "      <td>1.242529</td>\n",
       "      <td>-3.880827</td>\n",
       "      <td>0.798635</td>\n",
       "      <td>0.714892</td>\n",
       "      <td>-2.052608</td>\n",
       "      <td>-2.190863</td>\n",
       "      <td>0.667470</td>\n",
       "      <td>-0.188417</td>\n",
       "      <td>0.331206</td>\n",
       "    </tr>\n",
       "    <tr>\n",
       "      <td>3</td>\n",
       "      <td>0.805186</td>\n",
       "      <td>0.985691</td>\n",
       "      <td>-3.565488</td>\n",
       "      <td>0.461844</td>\n",
       "      <td>0.518506</td>\n",
       "      <td>2.792790</td>\n",
       "      <td>-0.396476</td>\n",
       "      <td>4.161473</td>\n",
       "      <td>-1.013877</td>\n",
       "      <td>-0.498926</td>\n",
       "    </tr>\n",
       "    <tr>\n",
       "      <td>4</td>\n",
       "      <td>0.948262</td>\n",
       "      <td>0.541715</td>\n",
       "      <td>-1.255760</td>\n",
       "      <td>0.189033</td>\n",
       "      <td>0.067932</td>\n",
       "      <td>3.301132</td>\n",
       "      <td>-1.258234</td>\n",
       "      <td>-2.004355</td>\n",
       "      <td>0.602214</td>\n",
       "      <td>-1.342796</td>\n",
       "    </tr>\n",
       "    <tr>\n",
       "      <td>...</td>\n",
       "      <td>...</td>\n",
       "      <td>...</td>\n",
       "      <td>...</td>\n",
       "      <td>...</td>\n",
       "      <td>...</td>\n",
       "      <td>...</td>\n",
       "      <td>...</td>\n",
       "      <td>...</td>\n",
       "      <td>...</td>\n",
       "      <td>...</td>\n",
       "    </tr>\n",
       "    <tr>\n",
       "      <td>8119</td>\n",
       "      <td>0.805186</td>\n",
       "      <td>0.541715</td>\n",
       "      <td>0.588111</td>\n",
       "      <td>0.750526</td>\n",
       "      <td>0.480600</td>\n",
       "      <td>1.426498</td>\n",
       "      <td>-1.800509</td>\n",
       "      <td>0.158004</td>\n",
       "      <td>0.106866</td>\n",
       "      <td>-0.649487</td>\n",
       "    </tr>\n",
       "    <tr>\n",
       "      <td>8120</td>\n",
       "      <td>0.805186</td>\n",
       "      <td>0.541715</td>\n",
       "      <td>1.431399</td>\n",
       "      <td>0.285104</td>\n",
       "      <td>0.242760</td>\n",
       "      <td>1.946724</td>\n",
       "      <td>0.208437</td>\n",
       "      <td>1.467637</td>\n",
       "      <td>-0.291823</td>\n",
       "      <td>-0.433137</td>\n",
       "    </tr>\n",
       "    <tr>\n",
       "      <td>8121</td>\n",
       "      <td>0.805186</td>\n",
       "      <td>0.385428</td>\n",
       "      <td>1.190212</td>\n",
       "      <td>-0.366118</td>\n",
       "      <td>0.310703</td>\n",
       "      <td>0.053368</td>\n",
       "      <td>-2.843708</td>\n",
       "      <td>1.095501</td>\n",
       "      <td>-0.234955</td>\n",
       "      <td>-0.258984</td>\n",
       "    </tr>\n",
       "    <tr>\n",
       "      <td>8122</td>\n",
       "      <td>2.115420</td>\n",
       "      <td>0.541715</td>\n",
       "      <td>-1.241976</td>\n",
       "      <td>0.577590</td>\n",
       "      <td>0.095623</td>\n",
       "      <td>0.043870</td>\n",
       "      <td>-0.311706</td>\n",
       "      <td>1.258107</td>\n",
       "      <td>-0.316538</td>\n",
       "      <td>-0.589073</td>\n",
       "    </tr>\n",
       "    <tr>\n",
       "      <td>8123</td>\n",
       "      <td>0.805186</td>\n",
       "      <td>0.541715</td>\n",
       "      <td>-0.112506</td>\n",
       "      <td>1.257788</td>\n",
       "      <td>0.425702</td>\n",
       "      <td>1.923264</td>\n",
       "      <td>1.360926</td>\n",
       "      <td>-0.421498</td>\n",
       "      <td>0.426276</td>\n",
       "      <td>-0.067956</td>\n",
       "    </tr>\n",
       "  </tbody>\n",
       "</table>\n",
       "<p>7311 rows × 10 columns</p>\n",
       "</div>"
      ],
      "text/plain": [
       "             0         1         2         3         4         5         6  \\\n",
       "0     0.205555 -0.423841 -1.424425  0.189033  1.127762  2.645915 -1.032036   \n",
       "1     0.805186  1.757325 -3.511668  0.189033  0.438993 -0.283909  2.550317   \n",
       "2     0.805186  1.242529 -3.880827  0.798635  0.714892 -2.052608 -2.190863   \n",
       "3     0.805186  0.985691 -3.565488  0.461844  0.518506  2.792790 -0.396476   \n",
       "4     0.948262  0.541715 -1.255760  0.189033  0.067932  3.301132 -1.258234   \n",
       "...        ...       ...       ...       ...       ...       ...       ...   \n",
       "8119  0.805186  0.541715  0.588111  0.750526  0.480600  1.426498 -1.800509   \n",
       "8120  0.805186  0.541715  1.431399  0.285104  0.242760  1.946724  0.208437   \n",
       "8121  0.805186  0.385428  1.190212 -0.366118  0.310703  0.053368 -2.843708   \n",
       "8122  2.115420  0.541715 -1.241976  0.577590  0.095623  0.043870 -0.311706   \n",
       "8123  0.805186  0.541715 -0.112506  1.257788  0.425702  1.923264  1.360926   \n",
       "\n",
       "             7         8         9  \n",
       "0     3.643589 -0.925812  0.366808  \n",
       "1    -0.617764  0.232131  0.075075  \n",
       "2     0.667470 -0.188417  0.331206  \n",
       "3     4.161473 -1.013877 -0.498926  \n",
       "4    -2.004355  0.602214 -1.342796  \n",
       "...        ...       ...       ...  \n",
       "8119  0.158004  0.106866 -0.649487  \n",
       "8120  1.467637 -0.291823 -0.433137  \n",
       "8121  1.095501 -0.234955 -0.258984  \n",
       "8122  1.258107 -0.316538 -0.589073  \n",
       "8123 -0.421498  0.426276 -0.067956  \n",
       "\n",
       "[7311 rows x 10 columns]"
      ]
     },
     "execution_count": 25,
     "metadata": {},
     "output_type": "execute_result"
    }
   ],
   "source": [
    "x=df_mushroom.iloc[:,0:-1]\n",
    "x"
   ]
  },
  {
   "cell_type": "code",
   "execution_count": 26,
   "metadata": {},
   "outputs": [
    {
     "data": {
      "text/plain": [
       "0       1.0\n",
       "1       0.0\n",
       "2       0.0\n",
       "3       1.0\n",
       "4       0.0\n",
       "       ... \n",
       "8119    0.0\n",
       "8120    0.0\n",
       "8121    0.0\n",
       "8122    1.0\n",
       "8123    0.0\n",
       "Name: 10, Length: 7311, dtype: float64"
      ]
     },
     "execution_count": 26,
     "metadata": {},
     "output_type": "execute_result"
    }
   ],
   "source": [
    "y=df_mushroom.iloc[:,-1]\n",
    "y"
   ]
  },
  {
   "cell_type": "code",
   "execution_count": 27,
   "metadata": {},
   "outputs": [],
   "source": [
    "x_train,x_test,y_train,y_test=train_test_split(x,y,test_size=.22)"
   ]
  },
  {
   "cell_type": "code",
   "execution_count": 28,
   "metadata": {},
   "outputs": [],
   "source": [
    "from sklearn.naive_bayes import GaussianNB\n",
    "\n",
    "models = {\"Logistic Regression\": LogisticRegression(),\n",
    "          \"KNN\": KNeighborsClassifier(),\n",
    "          \"Random Forest\": RandomForestClassifier(),\n",
    "          \"GaussianNB\":GaussianNB(),\n",
    "          \"SVC\":SVC(),\n",
    "          \"DecisionTreeClassifier\":DecisionTreeClassifier(),\n",
    "         }\n",
    "\n",
    "# Create a function to fit and score models\n",
    "def fit_and_score(models, x_train, x_test, y_train, y_test):\n",
    "    \"\"\"\n",
    "    Fits and evaluates given machine learning models.\n",
    "    models : a dict of differetn Scikit-Learn machine learning models\n",
    "    X_train : training data (no labels)\n",
    "    X_test : testing data (no labels)\n",
    "    y_train : training labels\n",
    "    y_test : test labels\n",
    "    \"\"\"\n",
    "    # Set random seed\n",
    "    np.random.seed(58)\n",
    "    # Make a dictionary to keep model scores\n",
    "    model_scores = {}\n",
    "    # Loop through models\n",
    "    for name, model in models.items():\n",
    "        # Fit the model to the data\n",
    "        model.fit(x_train, y_train)\n",
    "        # Evaluate the model and append its score to model_scores\n",
    "        model_scores[name] = model.score(x_test, y_test)\n",
    "    return model_scores"
   ]
  },
  {
   "cell_type": "code",
   "execution_count": 29,
   "metadata": {},
   "outputs": [
    {
     "data": {
      "text/plain": [
       "{'Logistic Regression': 0.7520198881292729,\n",
       " 'KNN': 0.9838408949658173,\n",
       " 'Random Forest': 0.9937849596022374,\n",
       " 'GaussianNB': 0.7855811062771908,\n",
       " 'SVC': 0.9912989434431324,\n",
       " 'DecisionTreeClassifier': 0.9906774394033562}"
      ]
     },
     "execution_count": 29,
     "metadata": {},
     "output_type": "execute_result"
    }
   ],
   "source": [
    "\n",
    "model_scores = fit_and_score(models=models,\n",
    "                             x_train=x_train,\n",
    "                             x_test=x_test,\n",
    "                             y_train=y_train,\n",
    "                             y_test=y_test)\n",
    "\n",
    "model_scores\n"
   ]
  },
  {
   "cell_type": "code",
   "execution_count": 30,
   "metadata": {},
   "outputs": [],
   "source": [
    "from sklearn.naive_bayes import GaussianNB\n",
    "from sklearn.ensemble import GradientBoostingClassifier\n",
    "models = {\"Random Forest\": RandomForestClassifier(n_estimators=100),\n",
    "          \"Logistic Regression\": LogisticRegression(),\n",
    "          \"KNN\": KNeighborsClassifier(),\n",
    "          \"GaussianNB\":GaussianNB(),\n",
    "          \"SVC\":SVC(),\n",
    "          \"DecisionTreeClassifier\":DecisionTreeClassifier(),\n",
    "          \"GradientBoostingClassifier\":GradientBoostingClassifier()\n",
    "         }\n",
    "x_train,x_test,y_train,y_test=train_test_split(x,y,random_state=58,test_size=.20)\n",
    "\n",
    "# Create a function to fit and score models\n",
    "def fit_and_score(models, x_train, x_test, y_train, y_test):\n",
    "    \"\"\"\n",
    "    Fits and evaluates given machine learning models.\n",
    "    models : a dict of differetn Scikit-Learn machine learning models\n",
    "    X_train : training data (no labels)\n",
    "    X_test : testing data (no labels)\n",
    "    y_train : training labels\n",
    "    y_test : test labels\n",
    "    \"\"\"\n",
    "    # Make a dictionary to keep model scores\n",
    "    model_acc_scores = {}\n",
    "    # Loop through models\n",
    "    for name, model in models.items():\n",
    "        y_pred1=0\n",
    "        # Fit the model to the data\n",
    "        model.fit(x_train, y_train)\n",
    "        y_pred1=model.predict(x_test)\n",
    "        # Evaluate the model and append its score to model_scores\n",
    "        model_acc_scores[name] = accuracy_score(y_test,y_pred1)\n",
    "\n",
    "    return model_acc_scores"
   ]
  },
  {
   "cell_type": "code",
   "execution_count": 31,
   "metadata": {},
   "outputs": [
    {
     "data": {
      "text/plain": [
       "{'Random Forest': 1.0,\n",
       " 'Logistic Regression': 0.7265892002734108,\n",
       " 'KNN': 0.9883800410116199,\n",
       " 'GaussianNB': 0.7559808612440191,\n",
       " 'SVC': 0.9931647300068353,\n",
       " 'DecisionTreeClassifier': 0.9876965140123035,\n",
       " 'GradientBoostingClassifier': 0.9569377990430622}"
      ]
     },
     "execution_count": 31,
     "metadata": {},
     "output_type": "execute_result"
    }
   ],
   "source": [
    "model_acc_scores = fit_and_score(models=models,\n",
    "                             x_train=x_train,\n",
    "                             x_test=x_test,\n",
    "                             y_train=y_train,\n",
    "                             y_test=y_test,\n",
    "                             )\n",
    "\n",
    "model_acc_scores"
   ]
  },
  {
   "cell_type": "code",
   "execution_count": 32,
   "metadata": {},
   "outputs": [
    {
     "name": "stdout",
     "output_type": "stream",
     "text": [
      "max acc score corresponding to 94 is: 1.0\n"
     ]
    }
   ],
   "source": [
    "max_acc_score=0\n",
    "for acc_state in range(42,100):      \n",
    "    x_train,x_test,y_train,y_test=train_test_split(x,y,random_state=acc_state,test_size=.20)\n",
    "    rm=RandomForestClassifier(n_estimators=100)\n",
    "    rm.fit(x_train,y_train)\n",
    "    y_predrm=rm.predict(x_test)\n",
    "    accuracy_score1=accuracy_score(y_test,y_predrm)\n",
    "    if accuracy_score1 > max_acc_score:\n",
    "        max_acc_score=accuracy_score1\n",
    "        final_acc_state=acc_state\n",
    "print('max acc score corresponding to',final_acc_state,'is:', max_acc_score)"
   ]
  },
  {
   "cell_type": "code",
   "execution_count": 33,
   "metadata": {},
   "outputs": [
    {
     "name": "stdout",
     "output_type": "stream",
     "text": [
      "max acc score corresponding to 94 is: 0.9952153110047847\n"
     ]
    }
   ],
   "source": [
    "max_acc_score=0\n",
    "for acc_state in range(42,100):      \n",
    "    x_train,x_test,y_train,y_test=train_test_split(x,y,random_state=acc_state,test_size=.20)\n",
    "    knn=KNeighborsClassifier()\n",
    "    knn.fit(x_train,y_train)\n",
    "    y_predknn=knn.predict(x_test)\n",
    "    accuracy_score1=accuracy_score(y_test,y_predknn)\n",
    "    if accuracy_score1 > max_acc_score:\n",
    "        max_acc_score=accuracy_score1\n",
    "        final_acc_state=acc_state\n",
    "print('max acc score corresponding to',final_acc_state,'is:', max_acc_score)"
   ]
  },
  {
   "cell_type": "code",
   "execution_count": 34,
   "metadata": {},
   "outputs": [
    {
     "name": "stdout",
     "output_type": "stream",
     "text": [
      "max acc score corresponding to 91 is: 0.997513983840895\n"
     ]
    }
   ],
   "source": [
    "max_acc_score=0\n",
    "for acc_state in range(42,100):      \n",
    "    x_train,x_test,y_train,y_test=train_test_split(x,y,random_state=acc_state,test_size=.22)\n",
    "    svc=SVC()\n",
    "    svc.fit(x_train,y_train)\n",
    "    y_predsvc=svc.predict(x_test)\n",
    "    accuracy_score1=accuracy_score(y_test,y_predsvc)\n",
    "    if accuracy_score1 > max_acc_score:\n",
    "        max_acc_score=accuracy_score1\n",
    "        final_acc_state=acc_state\n",
    "print('max acc score corresponding to',final_acc_state,'is:', max_acc_score)"
   ]
  },
  {
   "cell_type": "code",
   "execution_count": 35,
   "metadata": {},
   "outputs": [
    {
     "data": {
      "text/plain": [
       "<matplotlib.axes._subplots.AxesSubplot at 0x15cbc793348>"
      ]
     },
     "execution_count": 35,
     "metadata": {},
     "output_type": "execute_result"
    },
    {
     "data": {
      "image/png": "[encoded data removed]",
      "text/plain": [
       "<Figure size 432x288 with 1 Axes>"
      ]
     },
     "metadata": {
      "needs_background": "light"
     },
     "output_type": "display_data"
    }
   ],
   "source": [
    "model_compare = pd.DataFrame(model_acc_scores, index=[\"accuracy\"])\n",
    "model_compare.T.plot.bar()"
   ]
  },
  {
   "cell_type": "code",
   "execution_count": 36,
   "metadata": {},
   "outputs": [
    {
     "name": "stdout",
     "output_type": "stream",
     "text": [
      "Accuracy Score: 1.0\n",
      "Confusion Matrix: [[782   0]\n",
      " [  0 681]]\n",
      "Classification Report:               precision    recall  f1-score   support\n",
      "\n",
      "         0.0       1.00      1.00      1.00       782\n",
      "         1.0       1.00      1.00      1.00       681\n",
      "\n",
      "    accuracy                           1.00      1463\n",
      "   macro avg       1.00      1.00      1.00      1463\n",
      "weighted avg       1.00      1.00      1.00      1463\n",
      "\n"
     ]
    }
   ],
   "source": [
    "x_train,x_test,y_train,y_test=train_test_split(x,y,random_state=58,test_size=.20)\n",
    "rf=RandomForestClassifier(n_estimators=100)\n",
    "rf.fit(x_train,y_train)\n",
    "rf.score(x_train,y_train)\n",
    "rfpred=rf.predict(x_test)\n",
    "print('Accuracy Score:',accuracy_score(y_test,rfpred))\n",
    "print('Confusion Matrix:',confusion_matrix(y_test,rfpred))\n",
    "print('Classification Report:',classification_report(y_test,rfpred))"
   ]
  },
  {
   "cell_type": "code",
   "execution_count": 37,
   "metadata": {},
   "outputs": [
    {
     "data": {
      "image/png": "[encoded data removed]",
      "text/plain": [
       "<Figure size 432x288 with 1 Axes>"
      ]
     },
     "metadata": {
      "needs_background": "light"
     },
     "output_type": "display_data"
    }
   ],
   "source": [
    "# Make predictions with probabilities\n",
    "y_probs = rf.predict_proba(x_test)\n",
    "\n",
    "# Keep the probabilites of the positive class only\n",
    "y_probs = y_probs[:, 1]\n",
    "\n",
    "# Calculate fpr, tpr and thresholds\n",
    "fpr, tpr, thresholds = roc_curve(y_test, y_probs)\n",
    "\n",
    "# Check the false positive rate\n",
    "fpr\n",
    "plt.plot([0,1],[0,1])\n",
    "plt.plot(fpr,tpr,label='adabooster')\n",
    "plt.xlabel('false positive rate')\n",
    "plt.ylabel('True positive rate')\n",
    "plt.title('adabooster')\n",
    "plt.show()\n"
   ]
  },
  {
   "cell_type": "code",
   "execution_count": 38,
   "metadata": {},
   "outputs": [
    {
     "data": {
      "image/png": "[encoded data removed]",
      "text/plain": [
       "<Figure size 432x288 with 1 Axes>"
      ]
     },
     "metadata": {
      "needs_background": "light"
     },
     "output_type": "display_data"
    }
   ],
   "source": [
    "def plot_roc_curve(fpr, tpr):\n",
    "    \"\"\"\n",
    "    Plots a ROC curve given the false positve rate (fpr) and \n",
    "    true postive rate (tpr) of a classifier.\n",
    "    \"\"\"\n",
    "    # Plot ROC curve\n",
    "    plt.plot(fpr, tpr, color='orange', label='ROC')\n",
    "    # Plot line with no predictive power (baseline)\n",
    "    plt.plot([0, 1], [0, 1], color='darkblue', linestyle='--', label='Guessing')\n",
    "    # Customize the plot\n",
    "    plt.xlabel('False Positive Rate')\n",
    "    plt.ylabel('True Positive Rate')\n",
    "    plt.title('Receiver Operating Characteristic (ROC) Curve')\n",
    "    plt.legend()\n",
    "    plt.show()\n",
    "    \n",
    "plot_roc_curve(fpr, tpr)"
   ]
  },
  {
   "cell_type": "code",
   "execution_count": 47,
   "metadata": {},
   "outputs": [
    {
     "data": {
      "image/png": "[encoded data removed]",
      "text/plain": [
       "<Figure size 432x288 with 1 Axes>"
      ]
     },
     "metadata": {},
     "output_type": "display_data"
    }
   ],
   "source": [
    "plot_roc_curve(rfpred, x_test)"
   ]
  },
  {
   "cell_type": "code",
   "execution_count": 40,
   "metadata": {},
   "outputs": [
    {
     "data": {
      "image/png": "[encoded data removed]",
      "text/plain": [
       "<Figure size 432x288 with 1 Axes>"
      ]
     },
     "metadata": {
      "needs_background": "light"
     },
     "output_type": "display_data"
    }
   ],
   "source": [
    "plot_roc_curve(y_test, x_test)"
   ]
  },
  {
   "cell_type": "code",
   "execution_count": 41,
   "metadata": {},
   "outputs": [],
   "source": [
    "def evaluate_preds(y_test, y_preds):\n",
    "    \"\"\"\n",
    "    Performs evaluation comparison on y_true labels vs. y_pred labels.\n",
    "    \"\"\"\n",
    "    accuracy = accuracy_score(y_test, y_preds)\n",
    "    precision = precision_score(y_test, y_preds)\n",
    "    recall = recall_score(y_test, y_preds)\n",
    "    f1 = f1_score(y_test, y_preds)\n",
    "    metric_dict = {\"accuracy\": round(accuracy, 2),\n",
    "                   \"precision\": round(precision, 2), \n",
    "                   \"recall\": round(recall, 2),\n",
    "                   \"f1\": round(f1, 2)}\n",
    "    print(f\"Acc: {accuracy * 100:.2f}%\")\n",
    "    print(f\"Precision: {precision:.2f}\")\n",
    "    print(f\"Recall: {recall:.2f}\")\n",
    "    print(f\"F1 score: {f1:.2f}\")\n",
    "\n",
    "    return metric_dict"
   ]
  },
  {
   "cell_type": "code",
   "execution_count": 42,
   "metadata": {},
   "outputs": [
    {
     "name": "stdout",
     "output_type": "stream",
     "text": [
      "Acc: 100.00%\n",
      "Precision: 1.00\n",
      "Recall: 1.00\n",
      "F1 score: 1.00\n"
     ]
    },
    {
     "data": {
      "text/plain": [
       "{'accuracy': 1.0, 'precision': 1.0, 'recall': 1.0, 'f1': 1.0}"
      ]
     },
     "execution_count": 42,
     "metadata": {},
     "output_type": "execute_result"
    }
   ],
   "source": [
    "y_predrf= evaluate_preds(y_test, rfpred)\n",
    "y_predrf"
   ]
  },
  {
   "cell_type": "code",
   "execution_count": 43,
   "metadata": {},
   "outputs": [
    {
     "data": {
      "image/png": "[encoded data removed]",
      "text/plain": [
       "<Figure size 216x216 with 1 Axes>"
      ]
     },
     "metadata": {},
     "output_type": "display_data"
    }
   ],
   "source": [
    "sns.set(font_scale=1.5)\n",
    "\n",
    "def plot_conf_mat(y_test, rfpred):\n",
    "    \"\"\"\n",
    "    Plots a nice looking confusion matrix using Seaborn's heatmap()\n",
    "    \"\"\"\n",
    "    fig, ax = plt.subplots(figsize=(3, 3))\n",
    "    ax = sns.heatmap(confusion_matrix(y_test, rfpred),\n",
    "                     annot=True,\n",
    "                     cbar=False)\n",
    "    plt.xlabel(\"True label\")\n",
    "    plt.ylabel(\"Predicted label\")\n",
    "    \n",
    "    bottom, top = ax.get_ylim()\n",
    "    ax.set_ylim(bottom + 0.5, top - 0.5)\n",
    "    \n",
    "plot_conf_mat(y_test, rfpred)"
   ]
  },
  {
   "cell_type": "code",
   "execution_count": 44,
   "metadata": {},
   "outputs": [
    {
     "data": {
      "text/plain": [
       "['mushroom_predict.pkl']"
      ]
     },
     "execution_count": 44,
     "metadata": {},
     "output_type": "execute_result"
    }
   ],
   "source": [
    "from sklearn.externals import joblib\n",
    "joblib.dump(rf,'mushroom_predict.pkl')"
   ]
  },
  {
   "cell_type": "code",
   "execution_count": 45,
   "metadata": {},
   "outputs": [
    {
     "name": "stdout",
     "output_type": "stream",
     "text": [
      "Acc: 100.00%\n",
      "Precision: 1.00\n",
      "Recall: 1.00\n",
      "F1 score: 1.00\n"
     ]
    },
    {
     "data": {
      "text/plain": [
       "{'accuracy': 1.0, 'precision': 1.0, 'recall': 1.0, 'f1': 1.0}"
      ]
     },
     "execution_count": 45,
     "metadata": {},
     "output_type": "execute_result"
    }
   ],
   "source": [
    "rf_from_joblib=joblib.load('mushroom_predict.pkl')\n",
    "joblib_y_preds = rf_from_joblib.predict(x_test)\n",
    "evaluate_preds(y_test, joblib_y_preds)"
   ]
  },
  {
   "cell_type": "code",
   "execution_count": null,
   "metadata": {},
   "outputs": [],
   "source": []
  }
 ],
 "metadata": {
  "kernelspec": {
   "display_name": "Python 3",
   "language": "python",
   "name": "python3"
  },
  "language_info": {
   "codemirror_mode": {
    "name": "ipython",
    "version": 3
   },
   "file_extension": ".py",
   "mimetype": "text/x-python",
   "name": "python",
   "nbconvert_exporter": "python",
   "pygments_lexer": "ipython3",
   "version": "3.7.4"
  }
 },
 "nbformat": 4,
 "nbformat_minor": 2
}
